{
 "cells": [
  {
   "cell_type": "markdown",
   "id": "61319598-d37c-45b0-99b4-fe229dd881b3",
   "metadata": {},
   "source": [
    "# Part A"
   ]
  },
  {
   "cell_type": "code",
   "execution_count": 1,
   "id": "68aa5917-e465-45ba-bdc2-a842fa6f81d7",
   "metadata": {},
   "outputs": [],
   "source": [
    "import pandas as pd\n",
    "\n",
    "\n",
    "df = pd .read_csv ('customer_raw_data_1500.csv')"
   ]
  },
  {
   "cell_type": "code",
   "execution_count": 17,
   "id": "40a6ae80-88d7-49e1-92ca-23a9b20f5521",
   "metadata": {},
   "outputs": [
    {
     "data": {
      "text/plain": [
       "(1500, 8)"
      ]
     },
     "execution_count": 17,
     "metadata": {},
     "output_type": "execute_result"
    }
   ],
   "source": [
    "df.head()\n",
    "df.shape"
   ]
  },
  {
   "cell_type": "code",
   "execution_count": 18,
   "id": "8e1f1100-2eb0-4709-8c9e-e5cea0ffa18b",
   "metadata": {},
   "outputs": [
    {
     "data": {
      "text/plain": [
       "Customer_ID          0\n",
       "Age                  0\n",
       "Gender               0\n",
       "City                 0\n",
       "Income             130\n",
       "Customer_Since       0\n",
       "Spending_Score      18\n",
       "clean_income      1500\n",
       "dtype: int64"
      ]
     },
     "execution_count": 18,
     "metadata": {},
     "output_type": "execute_result"
    }
   ],
   "source": [
    "df.isnull().sum()"
   ]
  },
  {
   "cell_type": "code",
   "execution_count": 22,
   "id": "1d95330a-d4df-4151-8646-ab1158b0dbe8",
   "metadata": {},
   "outputs": [],
   "source": [
    "df['clean_income'] =  df['Income'].replace('[$,]','',regex =True)\n",
    "df['clean_income'] = pd.to_numeric(df['clean_income'],errors = 'coerce')"
   ]
  },
  {
   "cell_type": "code",
   "execution_count": 23,
   "id": "8e0355e5-918c-42e8-b2d4-9a02a9263dd9",
   "metadata": {},
   "outputs": [
    {
     "data": {
      "text/plain": [
       "(1500, 8)"
      ]
     },
     "execution_count": 23,
     "metadata": {},
     "output_type": "execute_result"
    }
   ],
   "source": [
    "df.shape"
   ]
  },
  {
   "cell_type": "code",
   "execution_count": 26,
   "id": "b4416781-0e64-4366-9dc1-c09f5c3ba057",
   "metadata": {},
   "outputs": [
    {
     "name": "stderr",
     "output_type": "stream",
     "text": [
      "C:\\Users\\AKHIL\\AppData\\Local\\Temp\\ipykernel_14108\\2490430749.py:2: FutureWarning: A value is trying to be set on a copy of a DataFrame or Series through chained assignment using an inplace method.\n",
      "The behavior will change in pandas 3.0. This inplace method will never work because the intermediate object on which we are setting values always behaves as a copy.\n",
      "\n",
      "For example, when doing 'df[col].method(value, inplace=True)', try using 'df.method({col: value}, inplace=True)' or df[col] = df[col].method(value) instead, to perform the operation inplace on the original object.\n",
      "\n",
      "\n",
      "  df['clean_income'].fillna(income_median, inplace=True)\n"
     ]
    }
   ],
   "source": [
    "income_median = df['clean_income'].median()\n",
    "df['clean_income'].fillna(income_median, inplace=True)"
   ]
  },
  {
   "cell_type": "code",
   "execution_count": 28,
   "id": "22686bac-008e-4b99-84bf-4bd4eb3300fc",
   "metadata": {},
   "outputs": [],
   "source": [
    "df['Income'] = df['clean_income']\n",
    "df.drop(columns='clean_income' ,inplace = True)\n"
   ]
  },
  {
   "cell_type": "code",
   "execution_count": 32,
   "id": "fdda0633-181e-45e1-a545-ea6a7173d898",
   "metadata": {},
   "outputs": [
    {
     "name": "stderr",
     "output_type": "stream",
     "text": [
      "C:\\Users\\AKHIL\\AppData\\Local\\Temp\\ipykernel_14108\\2237981391.py:2: FutureWarning: A value is trying to be set on a copy of a DataFrame or Series through chained assignment using an inplace method.\n",
      "The behavior will change in pandas 3.0. This inplace method will never work because the intermediate object on which we are setting values always behaves as a copy.\n",
      "\n",
      "For example, when doing 'df[col].method(value, inplace=True)', try using 'df.method({col: value}, inplace=True)' or df[col] = df[col].method(value) instead, to perform the operation inplace on the original object.\n",
      "\n",
      "\n",
      "  df['Spending_Score'].fillna(spending_median,inplace = True)\n"
     ]
    }
   ],
   "source": [
    "spending_median = df['Spending_Score'].median()\n",
    "df['Spending_Score'].fillna(spending_median,inplace = True)"
   ]
  },
  {
   "cell_type": "code",
   "execution_count": 61,
   "id": "7f50a128-db96-4a02-9a56-a2493ccbc39f",
   "metadata": {},
   "outputs": [
    {
     "name": "stderr",
     "output_type": "stream",
     "text": [
      "C:\\Users\\AKHIL\\AppData\\Local\\Temp\\ipykernel_14108\\545224781.py:1: SettingWithCopyWarning: \n",
      "A value is trying to be set on a copy of a slice from a DataFrame.\n",
      "Try using .loc[row_indexer,col_indexer] = value instead\n",
      "\n",
      "See the caveats in the documentation: https://pandas.pydata.org/pandas-docs/stable/user_guide/indexing.html#returning-a-view-versus-a-copy\n",
      "  df['Customer_Since'] = pd.to_datetime(df['Customer_Since'],errors  ='coerce')\n"
     ]
    }
   ],
   "source": [
    "df['Customer_Since'] = pd.to_datetime(df['Customer_Since'],errors  ='coerce')"
   ]
  },
  {
   "cell_type": "code",
   "execution_count": 62,
   "id": "1cc77d04-bfa6-4402-8cdc-46add64cf85d",
   "metadata": {},
   "outputs": [
    {
     "ename": "AttributeError",
     "evalue": "'StringMethods' object has no attribute 'capiitalize'",
     "output_type": "error",
     "traceback": [
      "\u001b[1;31m---------------------------------------------------------------------------\u001b[0m",
      "\u001b[1;31mAttributeError\u001b[0m                            Traceback (most recent call last)",
      "Cell \u001b[1;32mIn[62], line 1\u001b[0m\n\u001b[1;32m----> 1\u001b[0m df[\u001b[38;5;124m'\u001b[39m\u001b[38;5;124mGender\u001b[39m\u001b[38;5;124m'\u001b[39m] \u001b[38;5;241m=\u001b[39m \u001b[43mdf\u001b[49m\u001b[43m[\u001b[49m\u001b[38;5;124;43m'\u001b[39;49m\u001b[38;5;124;43mGender\u001b[39;49m\u001b[38;5;124;43m'\u001b[39;49m\u001b[43m]\u001b[49m\u001b[38;5;241;43m.\u001b[39;49m\u001b[43mstr\u001b[49m\u001b[38;5;241;43m.\u001b[39;49m\u001b[43mstrip\u001b[49m\u001b[43m(\u001b[49m\u001b[43m)\u001b[49m\u001b[38;5;241;43m.\u001b[39;49m\u001b[43mstr\u001b[49m\u001b[38;5;241;43m.\u001b[39;49m\u001b[43mcapiitalize\u001b[49m()\n\u001b[0;32m      2\u001b[0m df[\u001b[38;5;124m'\u001b[39m\u001b[38;5;124mGender\u001b[39m\u001b[38;5;124m'\u001b[39m] \u001b[38;5;241m=\u001b[39m df[\u001b[38;5;124m'\u001b[39m\u001b[38;5;124mGender\u001b[39m\u001b[38;5;124m'\u001b[39m]\u001b[38;5;241m.\u001b[39mreplace({\u001b[38;5;124m'\u001b[39m\u001b[38;5;124mF\u001b[39m\u001b[38;5;124m'\u001b[39m:\u001b[38;5;124m'\u001b[39m\u001b[38;5;124mFemale\u001b[39m\u001b[38;5;124m'\u001b[39m,\u001b[38;5;124m'\u001b[39m\u001b[38;5;124mM\u001b[39m\u001b[38;5;124m'\u001b[39m:\u001b[38;5;124m'\u001b[39m\u001b[38;5;124mMale\u001b[39m\u001b[38;5;124m'\u001b[39m,\u001b[38;5;124m'\u001b[39m\u001b[38;5;124mUnknown\u001b[39m\u001b[38;5;124m'\u001b[39m:pd\u001b[38;5;241m.\u001b[39mNA})\n",
      "\u001b[1;31mAttributeError\u001b[0m: 'StringMethods' object has no attribute 'capiitalize'"
     ]
    }
   ],
   "source": [
    "df['Gender'] = df['Gender'].str.strip().str.capiitalize()\n",
    "df['Gender'] = df['Gender'].replace({'F':'Female','M':'Male','Unknown':pd.NA})"
   ]
  },
  {
   "cell_type": "code",
   "execution_count": 63,
   "id": "a6fe2d10-d677-45de-9d46-e0b9e00d1e7d",
   "metadata": {},
   "outputs": [
    {
     "name": "stderr",
     "output_type": "stream",
     "text": [
      "C:\\Users\\AKHIL\\AppData\\Local\\Temp\\ipykernel_14108\\26357203.py:1: SettingWithCopyWarning: \n",
      "A value is trying to be set on a copy of a slice from a DataFrame.\n",
      "Try using .loc[row_indexer,col_indexer] = value instead\n",
      "\n",
      "See the caveats in the documentation: https://pandas.pydata.org/pandas-docs/stable/user_guide/indexing.html#returning-a-view-versus-a-copy\n",
      "  df['City'] = df['City'].str.strip().str.title()\n",
      "C:\\Users\\AKHIL\\AppData\\Local\\Temp\\ipykernel_14108\\26357203.py:2: SettingWithCopyWarning: \n",
      "A value is trying to be set on a copy of a slice from a DataFrame.\n",
      "Try using .loc[row_indexer,col_indexer] = value instead\n",
      "\n",
      "See the caveats in the documentation: https://pandas.pydata.org/pandas-docs/stable/user_guide/indexing.html#returning-a-view-versus-a-copy\n",
      "  df['City'] = df['City'].replace({'Unknown': pd.NA})\n"
     ]
    }
   ],
   "source": [
    "df['City'] = df['City'].str.strip().str.title()\n",
    "df['City'] = df['City'].replace({'Unknown': pd.NA})"
   ]
  },
  {
   "cell_type": "code",
   "execution_count": 64,
   "id": "6e3562c4-2dfe-4416-a47f-f7180ddd7d0a",
   "metadata": {},
   "outputs": [],
   "source": [
    "df = df[(df['Age'] >0) & (df['Age'] <100)]"
   ]
  },
  {
   "cell_type": "code",
   "execution_count": 65,
   "id": "e31361ae-607d-48cd-ae8d-1128da0ef89a",
   "metadata": {},
   "outputs": [],
   "source": [
    "df = df.dropna(subset= ['Gender','City'])"
   ]
  },
  {
   "cell_type": "code",
   "execution_count": 66,
   "id": "6fe36466-8f26-4a13-9203-75b653001b39",
   "metadata": {},
   "outputs": [
    {
     "name": "stdout",
     "output_type": "stream",
     "text": [
      " total duplicates :0\n"
     ]
    }
   ],
   "source": [
    "duplicates = df.duplicated(subset = 'Customer_ID').sum()\n",
    "print(f' total duplicates :{duplicates}')"
   ]
  },
  {
   "cell_type": "code",
   "execution_count": 67,
   "id": "e3deddbb-a5bb-493e-a855-327a05df0bff",
   "metadata": {},
   "outputs": [],
   "source": [
    "df = df.drop_duplicates(subset = 'Customer_ID')"
   ]
  },
  {
   "cell_type": "code",
   "execution_count": 68,
   "id": "4add8eb8-c72e-40bd-97e6-31476d5e464b",
   "metadata": {},
   "outputs": [
    {
     "name": "stdout",
     "output_type": "stream",
     "text": [
      "Cleaned data (1071, 7)\n"
     ]
    }
   ],
   "source": [
    "print(f\"Cleaned data {df.shape}\")"
   ]
  },
  {
   "cell_type": "markdown",
   "id": "18338d51-a16e-4784-8711-95d7bca5edf1",
   "metadata": {},
   "source": [
    "# Part B"
   ]
  },
  {
   "cell_type": "code",
   "execution_count": 77,
   "id": "0825b9e0-9e43-493f-8ff7-e0e4767a8148",
   "metadata": {},
   "outputs": [
    {
     "name": "stdout",
     "output_type": "stream",
     "text": [
      "Age Stats\n",
      "Mean: 52.54435107376284\n",
      "Median: 52.0\n",
      "Mode: 76\n"
     ]
    }
   ],
   "source": [
    "print( \"Age Stats\")\n",
    "print (\"Mean:\",df['Age'].mean())\n",
    "print (\"Median:\",df['Age'].median())\n",
    "print (\"Mode:\",df['Age'].mode()[0])"
   ]
  },
  {
   "cell_type": "code",
   "execution_count": 78,
   "id": "872128fc-568c-42d4-b203-5a12713461a1",
   "metadata": {},
   "outputs": [
    {
     "name": "stdout",
     "output_type": "stream",
     "text": [
      "Income Stats\n",
      "Mean: 84085.28384687209\n",
      "Median: 84013.0\n",
      "Mode: 84013.0\n"
     ]
    }
   ],
   "source": [
    "print( \"Income Stats\")\n",
    "print (\"Mean:\",df['Income'].mean())\n",
    "print (\"Median:\",df['Income'].median())\n",
    "print (\"Mode:\",df['Income'].mode()[0])"
   ]
  },
  {
   "cell_type": "code",
   "execution_count": 80,
   "id": "6c842776-af59-43bd-b788-4ec636b280b5",
   "metadata": {},
   "outputs": [
    {
     "name": "stdout",
     "output_type": "stream",
     "text": [
      "Customer per city\n",
      "City\n",
      "Los Angeles    366\n",
      "New York       357\n",
      "Huston         174\n",
      "Houston        174\n",
      "Name: count, dtype: int64\n"
     ]
    }
   ],
   "source": [
    "print (\"Customer per city\")\n",
    "print(df['City'].value_counts())"
   ]
  },
  {
   "cell_type": "code",
   "execution_count": 81,
   "id": "370c4ffa-f068-462c-96b1-c1195afd1601",
   "metadata": {},
   "outputs": [
    {
     "name": "stdout",
     "output_type": "stream",
     "text": [
      "Customer by Gender\n",
      "Gender\n",
      "Female    513\n",
      "Male      369\n",
      "Other     189\n",
      "Name: count, dtype: int64\n"
     ]
    }
   ],
   "source": [
    "print(\"Customer by Gender\")\n",
    "print(df['Gender'].value_counts())"
   ]
  },
  {
   "cell_type": "code",
   "execution_count": 86,
   "id": "43d97d88-cc4b-46d7-91d7-a06caec5e364",
   "metadata": {},
   "outputs": [
    {
     "name": "stdout",
     "output_type": "stream",
     "text": [
      "Age_group\n",
      "18-30    48.777108\n",
      "31-40    46.610390\n",
      "41-50    49.379310\n",
      "51-60    53.553191\n",
      "60+      50.428910\n",
      "Name: Spending_Score, dtype: float64\n"
     ]
    },
    {
     "name": "stderr",
     "output_type": "stream",
     "text": [
      "C:\\Users\\AKHIL\\AppData\\Local\\Temp\\ipykernel_14108\\2783787845.py:3: FutureWarning: The default of observed=False is deprecated and will be changed to True in a future version of pandas. Pass observed=False to retain current behavior or observed=True to adopt the future default and silence this warning.\n",
      "  print(df.groupby('Age_group')['Spending_Score'].mean())\n"
     ]
    }
   ],
   "source": [
    "df['Age_group']= pd.cut(df['Age'],bins = [ 18,30,40,50,60,100],\n",
    "                        labels =['18-30','31-40','41-50','51-60','60+'])\n",
    "print(df.groupby('Age_group')['Spending_Score'].mean())"
   ]
  },
  {
   "cell_type": "code",
   "execution_count": 87,
   "id": "60103d4a-76cc-4afe-887d-7485b3eec0c3",
   "metadata": {},
   "outputs": [
    {
     "name": "stdout",
     "output_type": "stream",
     "text": [
      "Gender\n",
      "Female    49.079922\n",
      "Male      51.195122\n",
      "Other     49.058201\n",
      "Name: Spending_Score, dtype: float64\n"
     ]
    }
   ],
   "source": [
    "print(df.groupby('Gender')['Spending_Score'].mean())"
   ]
  },
  {
   "cell_type": "markdown",
   "id": "8e8e1bc6-cd1a-41ea-84e7-bd8bdc96b121",
   "metadata": {},
   "source": [
    "## Data issues noticed"
   ]
  },
  {
   "cell_type": "code",
   "execution_count": 89,
   "id": "cffeef5b-dd1b-437a-8b8e-33828de0af75",
   "metadata": {},
   "outputs": [],
   "source": [
    "# Their should be more entries of 'Male' and 'Female' and no entry for other gender.\n",
    "# Some values were unknown which are incomplete data collected.\n",
    "# High number of missing values"
   ]
  }
 ],
 "metadata": {
  "kernelspec": {
   "display_name": "Python 3 (ipykernel)",
   "language": "python",
   "name": "python3"
  },
  "language_info": {
   "codemirror_mode": {
    "name": "ipython",
    "version": 3
   },
   "file_extension": ".py",
   "mimetype": "text/x-python",
   "name": "python",
   "nbconvert_exporter": "python",
   "pygments_lexer": "ipython3",
   "version": "3.13.2"
  }
 },
 "nbformat": 4,
 "nbformat_minor": 5
}
